{
 "cells": [
  {
   "cell_type": "code",
   "execution_count": null,
   "id": "b1b0d070",
   "metadata": {},
   "outputs": [],
   "source": [
    ", # -*- coding: utf-8 -*-\n",
    "\n",
    "import dataiku\n",
    "\n",
    "import pandas as pd\n",
    "\n",
    "import re\n",
    "\n",
    "import io\n",
    "\n",
    " \n",
    "\n",
    "# Définition des constantes\n",
    "\n",
    "REGEX = r\"CCW|Ccw|ccw|CW|Cw|cw\"\n",
    "\n",
    " \n",
    "\n",
    "OUTPUT_DATASET= \"OUTPUT_DATASET\"\n",
    "\n",
    " \n",
    "\n",
    "# Accès au dossier en entrée sur S3\n",
    "\n",
    "folder = dataiku.Folder(\"name_folder\")\n",
    "\n",
    "folder_files = folder.list_paths_in_partition()\n",
    "\n",
    " \n",
    "\n",
    "# Filtre et lit les fichiers basés sur les expressions régulières\n",
    "\n",
    "# Utilisation du \"\\a\" comme délimiteur, étant une chaine de caractère peu probable,\n",
    "\n",
    "# cela permet de ne pas avoir de délimateur et donc que tout soit inclus dans une colonne, le traitement se fera ultérieurement\n",
    "\n",
    "for file_path in folder_files:\n",
    "\n",
    "    if re.search(REGEX, file_path):\n",
    "\n",
    "        with folder.get_download_stream(file_path) as stream:\n",
    "\n",
    "            df1 = pd.read_csv(io.StringIO(stream.read().decode('utf-8')), delimiter='\\a', header=None)\n",
    "\n",
    "            dataiku.Dataset(OUTPUT_DATASET).write_with_schema(df1)"
   ]
  },
  {
   "cell_type": "code",
   "execution_count": null,
   "id": "4b01c034",
   "metadata": {},
   "outputs": [],
   "source": []
  },
  {
   "cell_type": "code",
   "execution_count": null,
   "id": "e4c450be",
   "metadata": {},
   "outputs": [],
   "source": []
  },
  {
   "cell_type": "code",
   "execution_count": null,
   "id": "8a5429e4",
   "metadata": {},
   "outputs": [],
   "source": []
  },
  {
   "cell_type": "code",
   "execution_count": null,
   "id": "b04eb5a5",
   "metadata": {},
   "outputs": [],
   "source": []
  },
  {
   "cell_type": "code",
   "execution_count": null,
   "id": "83e40172",
   "metadata": {},
   "outputs": [],
   "source": []
  },
  {
   "cell_type": "code",
   "execution_count": null,
   "id": "bc591ac1",
   "metadata": {},
   "outputs": [],
   "source": []
  },
  {
   "cell_type": "code",
   "execution_count": null,
   "id": "616c484d",
   "metadata": {},
   "outputs": [],
   "source": []
  },
  {
   "cell_type": "code",
   "execution_count": null,
   "id": "64762bd3",
   "metadata": {},
   "outputs": [],
   "source": []
  },
  {
   "cell_type": "code",
   "execution_count": null,
   "id": "5296bf1e",
   "metadata": {},
   "outputs": [],
   "source": []
  },
  {
   "cell_type": "code",
   "execution_count": null,
   "id": "ef64d9ef",
   "metadata": {},
   "outputs": [],
   "source": []
  },
  {
   "cell_type": "code",
   "execution_count": null,
   "id": "869a73a7",
   "metadata": {},
   "outputs": [],
   "source": []
  },
  {
   "cell_type": "code",
   "execution_count": null,
   "id": "0cbf6ce0",
   "metadata": {},
   "outputs": [],
   "source": []
  },
  {
   "cell_type": "code",
   "execution_count": null,
   "id": "7629da76",
   "metadata": {},
   "outputs": [],
   "source": []
  },
  {
   "cell_type": "code",
   "execution_count": null,
   "id": "3c37d31b",
   "metadata": {},
   "outputs": [],
   "source": []
  },
  {
   "cell_type": "code",
   "execution_count": null,
   "id": "93ac5b10",
   "metadata": {},
   "outputs": [],
   "source": []
  },
  {
   "cell_type": "code",
   "execution_count": null,
   "id": "af50f51c",
   "metadata": {},
   "outputs": [],
   "source": []
  },
  {
   "cell_type": "code",
   "execution_count": null,
   "id": "9b580372",
   "metadata": {},
   "outputs": [],
   "source": []
  },
  {
   "cell_type": "code",
   "execution_count": null,
   "id": "f6062701",
   "metadata": {},
   "outputs": [],
   "source": []
  },
  {
   "cell_type": "code",
   "execution_count": null,
   "id": "d749bf70",
   "metadata": {},
   "outputs": [],
   "source": []
  },
  {
   "cell_type": "code",
   "execution_count": null,
   "id": "6a904c4d",
   "metadata": {},
   "outputs": [],
   "source": []
  },
  {
   "cell_type": "code",
   "execution_count": null,
   "id": "3873c330",
   "metadata": {},
   "outputs": [],
   "source": []
  }
 ],
 "metadata": {
  "kernelspec": {
   "display_name": "Python 3 (ipykernel)",
   "language": "python",
   "name": "python3"
  },
  "language_info": {
   "codemirror_mode": {
    "name": "ipython",
    "version": 3
   },
   "file_extension": ".py",
   "mimetype": "text/x-python",
   "name": "python",
   "nbconvert_exporter": "python",
   "pygments_lexer": "ipython3",
   "version": "3.9.12"
  }
 },
 "nbformat": 4,
 "nbformat_minor": 5
}
