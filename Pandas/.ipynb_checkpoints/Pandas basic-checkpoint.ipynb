{
 "cells": [
  {
   "cell_type": "markdown",
   "id": "52549847",
   "metadata": {},
   "source": [
    "# Pandas"
   ]
  },
  {
   "cell_type": "code",
   "execution_count": 1,
   "id": "edc48412",
   "metadata": {},
   "outputs": [],
   "source": [
    "import pandas as pd"
   ]
  },
  {
   "cell_type": "markdown",
   "id": "91ff4ace",
   "metadata": {},
   "source": [
    "\n",
    "````python\n",
    "# Colonnes\n",
    "df.columns\n",
    "\n",
    "# Toutes les valeurs\n",
    "df.values\n",
    "\n",
    "# Les index\n",
    "df.index\n",
    "\n",
    "# Nombre de valeurs nulles par colonnes\n",
    "df.isna().sum()\n",
    "\n",
    "# Dictionnaires du nombres de valeurs différentes par colonnes\n",
    "def count_unique_values(df):\n",
    "    unique_counts = {}\n",
    "    for column in df.columns:\n",
    "        unique_counts[column] = df[column].nunique()\n",
    "    return unique_counts\n",
    "\n",
    "count_unique_values(df)\n",
    "````"
   ]
  },
  {
   "cell_type": "markdown",
   "id": "c488799f",
   "metadata": {},
   "source": [
    "## Using `data.iterrows()`\n",
    "\n",
    "- The `data.iterrows()` function in pandas is utilized for iterating over DataFrame rows as (index, Series) pairs. \n",
    "- This iterator yields `the index` of the row and the `data` in each row as a pandas Series. \n",
    "- It's particularly useful for scenarios where you need to perform operations on each row individually.\n",
    "\n",
    "### How it works:\n",
    "\n",
    "When you call `data.iterrows()`, it returns an iterator yielding pairs (index, Series) for each row in the DataFrame. The index is the row index in the DataFrame, and the Series contains the row data.\n",
    "\n",
    "### Example Usage:\n",
    "\n",
    "```python\n",
    "# Sample DataFrame\n",
    "data = pd.DataFrame({\n",
    "    'A': [1, 2, 3],\n",
    "    'B': ['a', 'b', 'c']\n",
    "})\n",
    "\n",
    "# Iterating over rows\n",
    "for i, row in data.iterrows():\n",
    "    print(f\"Index: {i}\")\n",
    "    print(f\"Row:\\n{row}\\n\")\n",
    "```\n",
    "\n",
    "```\n",
    "Index: 0\n",
    "Row:\n",
    "A    1\n",
    "B    a\n",
    "Name: 0, dtype: object\n",
    "\n",
    "Index: 1\n",
    "Row:\n",
    "A    2\n",
    "B    b\n",
    "Name: 1, dtype: object\n",
    "\n",
    "Index: 2\n",
    "Row:\n",
    "A    3\n",
    "B    c\n",
    "Name: 2, dtype: object\n",
    "```\n",
    "\n",
    "```python\n",
    "# Sample DataFrame with city names\n",
    "data = pd.DataFrame({\n",
    "    'city1': ['New York', 'Los Angeles', 'Chicago'],\n",
    "    'city2': ['Boston', 'San Francisco', 'Houston']\n",
    "})\n",
    "\n",
    "# Iterating over rows using iterrows()\n",
    "for i, row in data.iterrows():\n",
    "    city1 = row['city1']\n",
    "    print(f\"Row {i} - City1: {city1}\")\n",
    "```\n",
    "\n",
    "```\n",
    "Row 0 - City1: New York\n",
    "Row 1 - City1: Los Angeles\n",
    "Row 2 - City1: Chicago\n",
    "```\n",
    "\n",
    "### Performance:\n",
    "\n",
    "- `iterrows()` can be slower on large datasets due to its row-wise operation and returning each row as a Series. For operations that can be performed on the entire dataset at once, **vectorized solutions** or methods like `apply()` are recommended for efficiency.\n",
    "\n",
    "### Data Types:\n",
    "\n",
    "- Each row is returned as a **Series** by `iterrows()`, which means if your DataFrame contains data of different types, each data type is preserved in the iteration. This can be useful when you need to maintain data type integrity for each column in the row.\n",
    "\n",
    "### Best Use:\n",
    "\n",
    "- `iterrows()` is best utilized for more complex operations that **cannot be easily vectorized**, especially when the readability of iterating over rows is preferred over performance. It offers a straightforward way to loop through rows for custom operations, making it a valuable tool for specific scenarios where row-wise manipulation is necessary.\n",
    "\n"
   ]
  },
  {
   "cell_type": "code",
   "execution_count": null,
   "id": "43f121a9",
   "metadata": {},
   "outputs": [],
   "source": []
  },
  {
   "cell_type": "code",
   "execution_count": null,
   "id": "7dcd79a1",
   "metadata": {},
   "outputs": [],
   "source": []
  },
  {
   "cell_type": "code",
   "execution_count": null,
   "id": "42c6c950",
   "metadata": {},
   "outputs": [],
   "source": []
  },
  {
   "cell_type": "code",
   "execution_count": null,
   "id": "fa6a4c05",
   "metadata": {},
   "outputs": [],
   "source": []
  },
  {
   "cell_type": "code",
   "execution_count": null,
   "id": "3008adf3",
   "metadata": {},
   "outputs": [],
   "source": []
  },
  {
   "cell_type": "code",
   "execution_count": null,
   "id": "a2cee828",
   "metadata": {},
   "outputs": [],
   "source": []
  },
  {
   "cell_type": "code",
   "execution_count": null,
   "id": "7515c3c6",
   "metadata": {},
   "outputs": [],
   "source": []
  }
 ],
 "metadata": {
  "kernelspec": {
   "display_name": "Python 3 (ipykernel)",
   "language": "python",
   "name": "python3"
  },
  "language_info": {
   "codemirror_mode": {
    "name": "ipython",
    "version": 3
   },
   "file_extension": ".py",
   "mimetype": "text/x-python",
   "name": "python",
   "nbconvert_exporter": "python",
   "pygments_lexer": "ipython3",
   "version": "3.9.12"
  }
 },
 "nbformat": 4,
 "nbformat_minor": 5
}
