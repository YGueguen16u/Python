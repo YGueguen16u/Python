{
 "cells": [
  {
   "cell_type": "markdown",
   "id": "046a4742",
   "metadata": {},
   "source": [
    "# Dictionaries"
   ]
  },
  {
   "cell_type": "code",
   "execution_count": null,
   "id": "6db00b35",
   "metadata": {},
   "outputs": [],
   "source": []
  },
  {
   "cell_type": "markdown",
   "id": "ca5623e2",
   "metadata": {},
   "source": [
    "## Dictionary Keys \n",
    "\n",
    "Python dictionaries are collections of key-value pairs. Keys act as unique identifiers for their corresponding values within a dictionary, allowing for the efficient retrieval, addition, and deletion of values.\n",
    "\n",
    "### Key Properties\n",
    "\n",
    "- **Uniqueness**: Each key in a dictionary must be unique. If you try to add a key that already exists, its value will be updated.\n",
    "- **Immutability**: Keys must be of a type that is immutable (e.g., strings, numbers, tuples). Lists and other dictionaries cannot serve as keys because they are mutable.\n",
    "\n",
    "### Basic Operations\n",
    "\n",
    "- **Adding a new key-value pair**: `dict[key] = value`\n",
    "- **Retrieving a value**: `value = dict[key]`\n",
    "- **Checking for a key's existence**: `key in dict`\n",
    "- **Removing a key-value pair**: `del dict[key]`\n",
    "\n",
    "### Usage "
   ]
  },
  {
   "cell_type": "code",
   "execution_count": 5,
   "id": "71dbc428",
   "metadata": {},
   "outputs": [
    {
     "name": "stdout",
     "output_type": "stream",
     "text": [
      "John\n",
      "Age is a key in the dictionary\n",
      "{'name': 'John', 'age': 30, 'email': 'john@example.com'}\n"
     ]
    }
   ],
   "source": [
    "# Creating a dictionary\n",
    "my_dict = {'name': 'John', 'age': 30, 'city': 'New York'}\n",
    "\n",
    "# Adding a new key-value pair\n",
    "my_dict['email'] = 'john@example.com'\n",
    "\n",
    "# Retrieving a value\n",
    "print(my_dict['name'])  # Output: John\n",
    "\n",
    "# Checking if a key exists\n",
    "if 'age' in my_dict:\n",
    "    print('Age is a key in the dictionary')\n",
    "\n",
    "# Removing a key-value pair\n",
    "del my_dict['city']\n",
    "print(my_dict)  # Output: {'name': 'John', 'age': 30, 'email': 'john@example.com'}"
   ]
  },
  {
   "cell_type": "markdown",
   "id": "e6482746",
   "metadata": {},
   "source": [
    "#### Iterate over dictionary keys\n",
    "\n",
    "``freqs.keys()``"
   ]
  },
  {
   "cell_type": "code",
   "execution_count": null,
   "id": "449cd08e",
   "metadata": {},
   "outputs": [],
   "source": [
    "# Example dictionary of word frequencies with sentiment\n",
    "freqs = {('happy', 1): 5, ('joyful', 1): 3, ('sad', 0): 2, ('angry', 0): 1}\n",
    "\n",
    "# Initialize counters for positive and negative frequencies\n",
    "N_pos = N_neg = 0\n",
    "\n",
    "# Iterate over dictionary keys\n",
    "for pair in freqs.keys():\n",
    "    # If the label is positive\n",
    "    if pair[1] > 0:\n",
    "        N_pos += freqs[pair]\n",
    "    else:\n",
    "        N_neg += freqs[pair]\n",
    "\n",
    "print(\"Positive:\", N_pos)  # Output: Positive: 8\n",
    "print(\"Negative:\", N_neg)  # Output: Negative: 3"
   ]
  },
  {
   "cell_type": "markdown",
   "id": "2a8a2c12",
   "metadata": {},
   "source": [
    "#### In-Place Addition in Python\n",
    "\n",
    "`N_pos += freqs[pair]`: This operation is an in-place addition. It adds the value `freqs[pair]` to the current value of `N_pos` and then updates `N_pos` with this new value. It's equivalent to writing `N_pos = N_pos + freqs[pair]`.\n",
    "\n",
    "\n",
    "Consider a scenario where you're counting the frequency of positive sentiment words in a dataset. `freqs` is a dictionary where keys are words and values are their associated frequencies. `N_pos` is a variable used to accumulate the total frequency of positive words.\n"
   ]
  },
  {
   "cell_type": "code",
   "execution_count": 4,
   "id": "6c44de4b",
   "metadata": {},
   "outputs": [
    {
     "name": "stdout",
     "output_type": "stream",
     "text": [
      "8\n"
     ]
    }
   ],
   "source": [
    "# Example dictionary of word frequencies\n",
    "freqs = {('happy', 1): 5, ('joyful', 1): 3, ('sad',0): 2}\n",
    "\n",
    "# Initialize accumulator\n",
    "N_pos = 0\n",
    "\n",
    "for pair in freqs.keys() :\n",
    "    if pair[1] > 0 :\n",
    "        N_pos += freqs[pair]  # Adds value of pairs ('happy', 1) and ('joyful', 1) ==> 5 and 3\n",
    "\n",
    "print(N_pos)  # Output: 8"
   ]
  },
  {
   "cell_type": "markdown",
   "id": "b36d9090",
   "metadata": {},
   "source": [
    "## Python Dictionaries and the `.get()` Method\n",
    "\n",
    "The `.get()` method : technique for retrieving a value for a specified key. \n",
    "It is a safer alternative to direct key access, as it allows specifying a default value if the key does not exist, thus preventing `KeyError`.\n",
    "\n",
    "### Syntax\n",
    "\n",
    "```plaintext\n",
    "dictionary.get(key, default=None)\n",
    "```\n",
    "\n",
    "- `key`: The key to search for in the dictionary.\n",
    "- `default`: The value to return if the key is not found. This parameter is optional and can be any data type (e.g., `None`, a number, a string).\n",
    "\n",
    "\n",
    "### Usage\n",
    "\n",
    "#### Basic Example"
   ]
  },
  {
   "cell_type": "code",
   "execution_count": 6,
   "id": "9b739b74",
   "metadata": {},
   "outputs": [
    {
     "data": {
      "text/plain": [
       "'#0000FF'"
      ]
     },
     "execution_count": 6,
     "metadata": {},
     "output_type": "execute_result"
    }
   ],
   "source": [
    "colors = {'red': '#FF0000', 'green': '#00FF00'}\n",
    "colors.get('blue', '#0000FF')  # Output: #0000FF"
   ]
  },
  {
   "cell_type": "markdown",
   "id": "a3b87653",
   "metadata": {},
   "source": [
    "#### Retrieving Values Safely with `get()` in Python Dictionaries\n",
    "\n",
    "`freq_pos = freqs.get((word, 1), 0)`: This line retrieves the value associated with the key `(word, 1)` from the `freqs` dictionary. If the key does not exist, it returns `0` instead of raising a KeyError.\n",
    "\n",
    "\n",
    "Imagine you're analyzing a dataset of word sentiment, where `freqs` is a dictionary storing the frequency of each word's occurrence with a particular sentiment (1 for positive, 0 for negative). You want to find the frequency of a word's positive occurrences safely."
   ]
  },
  {
   "cell_type": "code",
   "execution_count": null,
   "id": "358c2903",
   "metadata": {},
   "outputs": [],
   "source": [
    "# Example dictionary of word frequencies with sentiment\n",
    "freqs = {('happy', 1): 5, ('happy', 0): 1, ('sad', 0): 4}\n",
    "\n",
    "# Word to check\n",
    "word = 'happy'\n",
    "\n",
    "# Safely retrieve the frequency of positive occurrences\n",
    "freq_pos = freqs.get((word, 1), 0)\n",
    "\n",
    "print(freq_pos)  # Output: 5"
   ]
  },
  {
   "cell_type": "markdown",
   "id": "687ddc22",
   "metadata": {},
   "source": [
    "#### Counting occurence\n",
    " - Here, .get() is used to simplify counting occurrences of items, defaulting to 0 if the item hasn't been encountered before."
   ]
  },
  {
   "cell_type": "code",
   "execution_count": 3,
   "id": "c64e1b06",
   "metadata": {},
   "outputs": [
    {
     "data": {
      "text/plain": [
       "{('apple', 'banana'): 2, ('banana', 'orange'): 1}"
      ]
     },
     "execution_count": 3,
     "metadata": {},
     "output_type": "execute_result"
    }
   ],
   "source": [
    "pair_freqs = {}\n",
    "pairs = [('apple', 'banana'), ('banana', 'orange'), ('apple', 'banana')]\n",
    "for pair in pairs:\n",
    "    pair_freqs[pair] = pair_freqs.get(pair, 0) + 1\n",
    "pair_freqs # output {('apple', 'banana'): 2, ('banana', 'orange'): 1}"
   ]
  },
  {
   "cell_type": "markdown",
   "id": "ed4ccafb",
   "metadata": {},
   "source": [
    "#### Complex Default Values\n",
    " - Here .get() with a complex default value (another dictionary), showcasing the method's flexibility for various data structures."
   ]
  },
  {
   "cell_type": "code",
   "execution_count": 8,
   "id": "2c7e4009",
   "metadata": {},
   "outputs": [
    {
     "data": {
      "text/plain": [
       "{'cherries': {'apples': 10, 'bananas': 0}}"
      ]
     },
     "execution_count": 8,
     "metadata": {},
     "output_type": "execute_result"
    }
   ],
   "source": [
    "default_inventory = {'apples': 0, 'bananas': 0}\n",
    "inventory = {}\n",
    "fruit = 'cherries'\n",
    "inventory[fruit] = inventory.get(fruit, default_inventory).copy()\n",
    "inventory[fruit]['apples'] += 10\n",
    "inventory  # Output: {'cherries': {'apples': 10, 'bananas': 0}}"
   ]
  },
  {
   "cell_type": "code",
   "execution_count": null,
   "id": "6ab37aa2",
   "metadata": {},
   "outputs": [],
   "source": []
  }
 ],
 "metadata": {
  "kernelspec": {
   "display_name": "Python 3 (ipykernel)",
   "language": "python",
   "name": "python3"
  },
  "language_info": {
   "codemirror_mode": {
    "name": "ipython",
    "version": 3
   },
   "file_extension": ".py",
   "mimetype": "text/x-python",
   "name": "python",
   "nbconvert_exporter": "python",
   "pygments_lexer": "ipython3",
   "version": "3.9.12"
  }
 },
 "nbformat": 4,
 "nbformat_minor": 5
}
